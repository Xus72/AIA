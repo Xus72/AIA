{
 "cells": [
  {
   "cell_type": "markdown",
   "metadata": {},
   "source": [
    "# Segundo entregable. Ampliación de Inteligencia Artificial - Curso 19-20"
   ]
  },
  {
   "cell_type": "markdown",
   "metadata": {},
   "source": [
    "## Introducción a scikit learn"
   ]
  },
  {
   "cell_type": "markdown",
   "metadata": {},
   "source": [
    "###  Nombre: Jesús Manuel Sánchez Alanís"
   ]
  },
  {
   "cell_type": "markdown",
   "metadata": {},
   "source": [
    "### Importante: comentar y explicar adecuadamente cada paso realizado.\n",
    "\n",
    "#### En este ejercicio, <u>es muy importante el comentar adecuadamente cada paso</u> dado. Los comentarios, que han de ser originales, deberán explicar  todo lo realizado, de manera que se demuestre que se conocen y manejan adecuadamente los conceptos y las herramientas que se usan. Estas explicaciones y comentarios serán parte importante de la nota."
   ]
  },
  {
   "cell_type": "markdown",
   "metadata": {},
   "source": [
    "### Plazo de entrega: 6 de junio (1.5 puntos de la nota total)"
   ]
  },
  {
   "cell_type": "markdown",
   "metadata": {},
   "source": [
    "Se pide aplicar las técnicas vistas en clase a dos conjuntos de datos. Estos datos son:\n",
    "* Imágenes de dígitos escritos a mano\n",
    "* Críticas de películas en IMDB"
   ]
  },
  {
   "cell_type": "markdown",
   "metadata": {},
   "source": [
    "**Con el estudio de estos dos conjuntos de datos, en principio es posible obtener la máxima puntuación del ejercicio.**\n",
    "\n",
    "Pero **opcionalmente para subir la nota** se puede incluir:\n",
    "* Un tercer conjunto de datos de libre elección (aunque daremos un par de sugerencias)"
   ]
  },
  {
   "cell_type": "markdown",
   "metadata": {},
   "source": [
    "En general, estas son algunas de las técnicas que se podrían aplicar en el estudio de cada caso: "
   ]
  },
  {
   "cell_type": "markdown",
   "metadata": {},
   "source": [
    "* Exploración preliminar del conjunto de datos\n",
    "* Visualizacón de algunas características \n",
    "* Uso de clasificadores (o de modelos de regresión, en su caso)\n",
    "* Separación de ejemplos para test\n",
    "* Métricas\n",
    "* Validación cruzada\n",
    "* Ajuste de parámetros con `GridSearchCV`\n",
    "* Mostrar la predicción sobre ejemplos individuales"
   ]
  },
  {
   "cell_type": "markdown",
   "metadata": {},
   "source": [
    "No es necesario aplicar todas las técnicas ni todos los modelos a cada conjunto de datos, aunque sí se valorará que la mayoría de los modelos y técnicas vistas en clase se aplique al menos a uno de los conjuntos de datos. "
   ]
  },
  {
   "cell_type": "markdown",
   "metadata": {},
   "source": [
    "## 1. Imágenes de dígitos escritos a manos"
   ]
  },
  {
   "cell_type": "markdown",
   "metadata": {},
   "source": [
    "El conjunto de datos de dígitos escritos a mano se puede cargar en sklearn directamente:"
   ]
  },
  {
   "cell_type": "code",
   "execution_count": 18,
   "metadata": {},
   "outputs": [],
   "source": [
    "from sklearn.datasets import load_digits\n",
    "digitos = load_digits()"
   ]
  },
  {
   "cell_type": "markdown",
   "metadata": {},
   "source": [
    "Podemos incluso visualizar cada dígito del conjunto de datos, y su clase:"
   ]
  },
  {
   "cell_type": "code",
   "execution_count": 19,
   "metadata": {},
   "outputs": [
    {
     "data": {
      "text/plain": [
       "<Figure size 432x288 with 0 Axes>"
      ]
     },
     "metadata": {},
     "output_type": "display_data"
    },
    {
     "data": {
      "image/png": "[encoded data removed]",
      "text/plain": [
       "<Figure size 288x288 with 1 Axes>"
      ]
     },
     "metadata": {
      "needs_background": "light"
     },
     "output_type": "display_data"
    },
    {
     "name": "stdout",
     "output_type": "stream",
     "text": [
      "Clase de la imagen: 6\n"
     ]
    }
   ],
   "source": [
    "import matplotlib.pyplot as plt\n",
    "plt.gray()\n",
    "plt.matshow(digitos.images[234]) \n",
    "plt.show() \n",
    "print(\"Clase de la imagen: {}\".format(digitos.target[234]))"
   ]
  },
  {
   "cell_type": "markdown",
   "metadata": {},
   "source": [
    "Este conjunto de datos se puede usar de dos formas:\n",
    "\n",
    "* Aprender un clasificador multiclase\n",
    "* Observando la matriz de confusión del clasificador multiclase, elegir un par de dígitos que puedan tener algunas predicciones intercambiadas y aprender un clasificador binario para ese problema\n",
    "\n",
    "Con los modelos finalmente aprendidos, mostrar con las imágenes del dígito, algún ejemplo que se clasifique bien y alguno que se clasifique mal. "
   ]
  },
  {
   "cell_type": "markdown",
   "metadata": {},
   "source": [
    "## 2. Críticas de cine en IMDB"
   ]
  },
  {
   "cell_type": "markdown",
   "metadata": {},
   "source": [
    "En este apartado, los datos serán críticas de películas en la web IMDB (Internet Movie Database). Son críticas que ya vienen con la etiqueta \"pos\" o \"neg\", de acuerdo a la puntuación que acompaña a la crítica (positiva, 7 o más; negativa 4 o menos). El objetivo es ser capaz de declarar como positiva o negativa una crítica (por supuesto, sin saber la puntuación que la acompaña)."
   ]
  },
  {
   "cell_type": "markdown",
   "metadata": {},
   "source": [
    "Los datos están disponibles en http://ai.stanford.edu/~amaas/data/sentiment/\n",
    "\n",
    "**Importante: Una vez descomprimido, eliminare la carpeta `train/unsup`, que no usaremos.**"
   ]
  },
  {
   "cell_type": "markdown",
   "metadata": {},
   "source": [
    "Para cargarlo en sklearn usar la utilidad `load_files`:  "
   ]
  },
  {
   "cell_type": "code",
   "execution_count": 20,
   "metadata": {},
   "outputs": [],
   "source": [
    "from sklearn.datasets import load_files\n",
    "\n",
    "reviews_train = load_files(\"data/aclImdb/train/\")\n",
    "text_train, y_train = reviews_train.data, reviews_train.target\n",
    "\n",
    "reviews_test = load_files(\"data/aclImdb/test/\")\n",
    "text_test, y_test = reviews_test.data, reviews_test.target"
   ]
  },
  {
   "cell_type": "markdown",
   "metadata": {},
   "source": [
    "Quitamos algunas marcas en HTML, para \"limpiar\" los textos."
   ]
  },
  {
   "cell_type": "code",
   "execution_count": 21,
   "metadata": {},
   "outputs": [],
   "source": [
    "text_train = [doc.replace(b\"<br />\", b\" \") for doc in text_train]\n",
    "text_test = [doc.replace(b\"<br />\", b\" \") for doc in text_test]"
   ]
  },
  {
   "cell_type": "markdown",
   "metadata": {},
   "source": [
    "Para poder aplicar los clasificadores de Scikit Learn, hemos de vectorizar los textos. En scikitlearn se pueden elegir varias formas de vectorizar:\n",
    "\n",
    "* **CountVectorizer**, modo binario (sólo se anota si un término ocurre o no)\n",
    "* **CountVectorizer**, contando ocurrencias\n",
    "* **TfIdfVectorizer**, vectorizando con TfIdf\n",
    "\n",
    "El uso de estos vectorizadores se puede comprender a partir de lo visto en el tema de Procesamiento de Lenguaje Natural, y del manual de Scikit Learn. En particular **es importante el uso de los parámetros stop_words y min_df** para simplificar a vectorización. Una vez entendido y explorado su uso, elegir la mejor combinación de vectorizador y de clasificador, para este conjunto de datos. \n",
    "\n",
    "También mostrar la predicción que se realiza sobre algunas críticas concretas del conjunto de test. "
   ]
  },
  {
   "cell_type": "markdown",
   "metadata": {},
   "source": [
    "## 3. Un tercer conjunto de datos adicional"
   ]
  },
  {
   "cell_type": "markdown",
   "metadata": {},
   "source": [
    "Este apartado es opcional.\n",
    "\n",
    "Se pide estudiar un tercer conjunto de datos (clasificación o regresión), obtenido a partir de algún repositorio. Por ejemplo, uno muy popular es el de UCI: https://archive.ics.uci.edu/ml/index.php\n",
    "\n",
    "Damos un par de sugerencias, pero solo a título orientativo:\n",
    "\n",
    "* Conjunto de datos de dermatología: https://archive.ics.uci.edu/ml/datasets/dermatology (porblema de clasificación)\n",
    "* Calidad de vino: https://archive.ics.uci.edu/ml/datasets/wine+quality (regresión) \n",
    "\n",
    "Nótese que en este caso, esto implicaría previamente cargar de manera adecuada los datos (posiblemente con algún preprocesado)."
   ]
  },
  {
   "cell_type": "code",
   "execution_count": null,
   "metadata": {},
   "outputs": [],
   "source": []
  }
 ],
 "metadata": {
  "kernelspec": {
   "display_name": "Python 3",
   "language": "python",
   "name": "python3"
  },
  "language_info": {
   "codemirror_mode": {
    "name": "ipython",
    "version": 3
   },
   "file_extension": ".py",
   "mimetype": "text/x-python",
   "name": "python",
   "nbconvert_exporter": "python",
   "pygments_lexer": "ipython3",
   "version": "3.7.4"
  }
 },
 "nbformat": 4,
 "nbformat_minor": 2
}
